{
 "cells": [
  {
   "cell_type": "code",
   "execution_count": 1,
   "metadata": {},
   "outputs": [
    {
     "name": "stdout",
     "output_type": "stream",
     "text": [
      "Enter your choice (1- ADD 2 - SEARCH 3 - DELETE 4 - DISPLAY ALL 5 - EXIT):4\n",
      "Name: Harshit Goel Phone No.: 123456789\n",
      "\n",
      "Enter your choice (1- ADD 2 - SEARCH 3 - DELETE 4 - DISPLAY ALL 5 - EXIT):5\n",
      "Have a nice day...\n"
     ]
    }
   ],
   "source": [
    "#Phone Book Project 13 Feb 2020\n",
    "def add_rec():\n",
    "    name = input(\"Enter Name:\")\n",
    "    phone = input(\"Enter Phone No.:\")\n",
    "    File = open(\"phonerec.rec\",\"a\")\n",
    "    File.write(name+\",\"+phone+\"\\n\")\n",
    "    print(\"Record Added Successfully......\")\n",
    "    File.close()\n",
    "\n",
    "def search_rec():\n",
    "    name = input(\"Enter name to be search:\")\n",
    "    File = open(\"phonerec.rec\",\"r\")\n",
    "    records = File.readlines()\n",
    "    for rec in records:\n",
    "        n = rec.split(\",\")\n",
    "        if(n[0] == name):\n",
    "            print(\"record found....\")\n",
    "            print(\"Name:\",n[0],\"Phone no.:\",n[1])\n",
    "            return 1\n",
    "    print(\"Record not found....\")\n",
    "    return 0\n",
    "\n",
    "def del_rec():\n",
    "    name = input(\"Enter name to delete:\")\n",
    "    File = open(\"phonerec.rec\",\"r\")\n",
    "    records = File.readlines()\n",
    "    count = 0\n",
    "    for rec in records:\n",
    "        n = rec.split(\",\")\n",
    "        if(n[0] == name):\n",
    "            break\n",
    "        count += 1\n",
    "    del records[count]\n",
    "    File = open(\"phonerec.rec\",\"w\")\n",
    "    File.writelines(records)\n",
    "    File.close()\n",
    "    \n",
    "def disp_all():\n",
    "    File = open(\"phonerec.rec\",\"r\")\n",
    "    records = File.readlines()\n",
    "    if(len(records) == 0):\n",
    "        print(\"records not found...\")\n",
    "        return 0\n",
    "    for rec in records:\n",
    "        n = rec.split(\",\")\n",
    "        print(\"Name:\",n[0],\"Phone No.:\",n[1])\n",
    "    \n",
    "while(True):\n",
    "    ch = eval(input(\"Enter your choice (1- ADD 2 - SEARCH 3 - DELETE 4 - DISPLAY ALL 5 - EXIT):\"))\n",
    "    if(ch == 1):\n",
    "        add_rec()\n",
    "    elif(ch == 2):\n",
    "        search_rec()\n",
    "    elif(ch == 3):\n",
    "        del_rec()\n",
    "    elif(ch == 4):\n",
    "        disp_all()\n",
    "    else:\n",
    "        print(\"Have a nice day...\")\n",
    "        break"
   ]
  },
  {
   "cell_type": "code",
   "execution_count": null,
   "metadata": {},
   "outputs": [],
   "source": []
  }
 ],
 "metadata": {
  "kernelspec": {
   "display_name": "Python 3",
   "language": "python",
   "name": "python3"
  },
  "language_info": {
   "codemirror_mode": {
    "name": "ipython",
    "version": 3
   },
   "file_extension": ".py",
   "mimetype": "text/x-python",
   "name": "python",
   "nbconvert_exporter": "python",
   "pygments_lexer": "ipython3",
   "version": "3.7.4"
  }
 },
 "nbformat": 4,
 "nbformat_minor": 2
}
