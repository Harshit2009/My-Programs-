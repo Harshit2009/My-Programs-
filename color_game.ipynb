{
 "cells": [
  {
   "cell_type": "code",
   "execution_count": 1,
   "metadata": {},
   "outputs": [],
   "source": [
    "import tkinter \n",
    "import random \n",
    "\n",
    "colours = ['Red','Blue','Green','Pink','Black', 'Yellow','Orange','White','Purple','Brown'] \n",
    "score = 0\n",
    "\n",
    "timeleft = 30\n",
    "\n",
    "def startGame(event): \n",
    "    if timeleft == 30: \n",
    "        countdown()  \n",
    "    nextColour() \n",
    " \n",
    "def nextColour(): \n",
    "    global score \n",
    "    global timeleft \n",
    "\n",
    "    if timeleft > 0:  \n",
    "        e.focus_set() \n",
    "        if e.get().lower() == colours[1].lower(): \n",
    "            score += 1 \n",
    "        e.delete(0, tkinter.END) \n",
    "        random.shuffle(colours)  \n",
    "    label.config(fg = str(colours[1]), text = str(colours[0]))  \n",
    "    scoreLabel.config(text = \"Score: \" + str(score)) \n",
    "\n",
    "def countdown(): \n",
    "    global timeleft \n",
    "    if timeleft > 0: \n",
    "        timeleft -= 1\n",
    "        timeLabel.config(text = \"Time left: \"+ str(timeleft)) \n",
    "        timeLabel.after(1000, countdown) \n",
    "\n",
    "root = tkinter.Tk() \n",
    "\n",
    "root.title(\"COLORGAME\") \n",
    " \n",
    "root.geometry(\"375x200\") \n",
    " \n",
    "instructions = tkinter.Label(root, text = \"Type in the colour\"\n",
    "                             \"of the words, and not the word text!\", font = ('Helvetica', 12)) \n",
    "instructions.pack() \n",
    "\n",
    "scoreLabel = tkinter.Label(root, text = \"Press enter to start\", font = ('Helvetica', 12)) \n",
    "scoreLabel.pack() \n",
    " \n",
    "timeLabel = tkinter.Label(root, text = \"Time left: \" + str(timeleft), font = ('Helvetica', 12)) \n",
    "\n",
    "timeLabel.pack() \n",
    "\n",
    "label = tkinter.Label(root, font = ('Helvetica', 60)) \n",
    "label.pack() \n",
    "\n",
    "e = tkinter.Entry(root) \n",
    "\n",
    "root.bind('<Return>', startGame) \n",
    "e.pack() \n",
    "\n",
    "e.focus_set() \n",
    " \n",
    "root.mainloop() \n"
   ]
  },
  {
   "cell_type": "code",
   "execution_count": null,
   "metadata": {},
   "outputs": [],
   "source": [
    "\n"
   ]
  }
 ],
 "metadata": {
  "kernelspec": {
   "display_name": "Python 3",
   "language": "python",
   "name": "python3"
  },
  "language_info": {
   "codemirror_mode": {
    "name": "ipython",
    "version": 3
   },
   "file_extension": ".py",
   "mimetype": "text/x-python",
   "name": "python",
   "nbconvert_exporter": "python",
   "pygments_lexer": "ipython3",
   "version": "3.7.4"
  }
 },
 "nbformat": 4,
 "nbformat_minor": 2
}
